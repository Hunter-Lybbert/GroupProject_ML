{
 "cells": [
  {
   "cell_type": "code",
   "execution_count": 1,
   "metadata": {},
   "outputs": [],
   "source": [
    "from sklearn.base import BaseEstimator, ClassifierMixin\n",
    "from sklearn.neighbors import KNeighborsClassifier, KNeighborsRegressor\n",
    "import numpy as np\n",
    "import matplotlib.pyplot as plt\n",
    "from scipy.io import arff\n",
    "import pandas as pd\n",
    "import pdb\n",
    "from sklearn.model_selection import train_test_split as split"
   ]
  },
  {
   "cell_type": "code",
   "execution_count": 63,
   "metadata": {},
   "outputs": [
    {
     "name": "stdout",
     "output_type": "stream",
     "text": [
      "[[75.87096774 65.29032258 33.61290323 14.87096774  9.4516129   2.61290323\n",
      "  14.06451613  0.449       0.741       0.309     ]\n",
      " [73.0625     74.5625     32.5        14.65625     5.03125     1.34375\n",
      "  12.34375     0.456       0.731       0.375     ]\n",
      " [75.74193548 66.51612903 37.70967742 13.06451613  5.09677419  2.93548387\n",
      "  12.80645161  0.44        0.772       0.361     ]\n",
      " [61.5        71.53333333 34.5        10.86666667  5.8         2.1\n",
      "  13.03333333  0.38        0.671       0.281     ]\n",
      " [67.3125     65.25       37.0625     10.53125     5.96875     2.90625\n",
      "  14.71875     0.454       0.704       0.328     ]\n",
      " [61.40625    71.03125    32.21875    10.15625     6.25        2.1875\n",
      "  16.          0.387       0.622       0.303     ]]\n"
     ]
    }
   ],
   "source": [
    "df = pd.read_csv('472_Fake_data.csv',header=None)\n",
    "data = np.array(df)\n",
    "\n",
    "X = data[:,:-1]\n",
    "print(X)\n",
    "y = data[:,-1]\n",
    "\n",
    "for i in range(6):\n",
    "    noise = np.random.normal(1,.04,X.shape)\n",
    "    X = np.vstack((X,X*noise))\n",
    "    y = np.hstack((y,y))\n",
    "\n",
    "\n",
    "X_train, X_test, y_train, y_test = split(X,y,test_size=.3, random_state=42)"
   ]
  },
  {
   "cell_type": "code",
   "execution_count": 64,
   "metadata": {},
   "outputs": [
    {
     "data": {
      "text/plain": [
       "0.05931034482758623"
      ]
     },
     "execution_count": 64,
     "metadata": {},
     "output_type": "execute_result"
    }
   ],
   "source": [
    "model = KNeighborsRegressor(n_neighbors=5)\n",
    "predict = model.fit(X_train,y_train).predict(X_test)\n",
    "np.sum((predict-y_test)**2)/len(y_test)"
   ]
  },
  {
   "cell_type": "code",
   "execution_count": 38,
   "metadata": {},
   "outputs": [
    {
     "data": {
      "text/plain": [
       "(48, 10)"
      ]
     },
     "execution_count": 38,
     "metadata": {},
     "output_type": "execute_result"
    }
   ],
   "source": [
    "X.shape"
   ]
  },
  {
   "cell_type": "code",
   "execution_count": 33,
   "metadata": {},
   "outputs": [
    {
     "data": {
      "text/plain": [
       "((48, 10), (8, 6))"
      ]
     },
     "execution_count": 33,
     "metadata": {},
     "output_type": "execute_result"
    }
   ],
   "source": [
    "X.shape,y.shape\n"
   ]
  },
  {
   "cell_type": "code",
   "execution_count": null,
   "metadata": {},
   "outputs": [],
   "source": []
  }
 ],
 "metadata": {
  "kernelspec": {
   "display_name": "Python 3",
   "language": "python",
   "name": "python3"
  },
  "language_info": {
   "codemirror_mode": {
    "name": "ipython",
    "version": 3
   },
   "file_extension": ".py",
   "mimetype": "text/x-python",
   "name": "python",
   "nbconvert_exporter": "python",
   "pygments_lexer": "ipython3",
   "version": "3.7.6"
  }
 },
 "nbformat": 4,
 "nbformat_minor": 4
}
