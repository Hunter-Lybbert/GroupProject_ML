{
 "cells": [
  {
   "cell_type": "code",
   "execution_count": 2,
   "metadata": {},
   "outputs": [],
   "source": [
    "from sklearn.base import BaseEstimator, ClassifierMixin\n",
    "from sklearn.neighbors import KNeighborsClassifier, KNeighborsRegressor\n",
    "import numpy as np\n",
    "import matplotlib.pyplot as plt\n",
    "from scipy.io import arff\n",
    "import pandas as pd\n",
    "import pdb\n",
    "from sklearn.model_selection import train_test_split as split"
   ]
  },
  {
   "cell_type": "code",
   "execution_count": 64,
   "metadata": {},
   "outputs": [],
   "source": [
    "def read_data(start,end):\n",
    "    '''\n",
    "    Reads all data and places it in a numpy array\n",
    "    Start: first year of data\n",
    "    end: last year of data\n",
    "    \n",
    "    Returns: numpy array of all data'''\n",
    "    \n",
    "    #read in data and place it into a single dataframe\n",
    "    df = None\n",
    "    for i in range(start,end):\n",
    "        tmp_df = pd.read_csv('NCAA_Season_Stats_{}.csv'.format(i))\n",
    "        if df is None:\n",
    "            df = tmp_df.copy()\n",
    "        else:\n",
    "            df = pd.concat([df,tmp_df])\n",
    "        \n",
    "    #replace the remaining Nan values with the averages of their columns\n",
    "    for n,i in enumerate(sum(df.isnull().values)):\n",
    "        if i != 0:\n",
    "            mean =df.iloc[:,n].astype('float64').mean()\n",
    "            df.iloc[:,n].fillna(value=mean, inplace=True)\n",
    "            \n",
    "    return np.array(df)\n",
    "            \n",
    "    "
   ]
  },
  {
   "cell_type": "code",
   "execution_count": 66,
   "metadata": {},
   "outputs": [],
   "source": [
    "data = np.array(read_data(1993,2021))\n",
    "\n",
    "data.shape\n",
    "X = data[:,1:-1].astype('float64')\n",
    "y=data[:,-1].astype(int)\n",
    "\n",
    "\n",
    "\n",
    "X_train, X_test, y_train, y_test = split(X,y,test_size=.3, random_state=42)"
   ]
  },
  {
   "cell_type": "code",
   "execution_count": 67,
   "metadata": {},
   "outputs": [
    {
     "data": {
      "text/plain": [
       "(0.0905823148813803, 0.9094176851186196)"
      ]
     },
     "execution_count": 67,
     "metadata": {},
     "output_type": "execute_result"
    }
   ],
   "source": [
    "model = KNeighborsClassifier(n_neighbors=5)\n",
    "predict = model.fit(X_train,y_train).predict(X_test)\n",
    "MSE = np.sum((predict-y_test)**2)/len(y_test)\n",
    "score = model.fit(X_train,y_train).score(X_test,y_test)\n",
    "MSE,score"
   ]
  },
  {
   "cell_type": "code",
   "execution_count": 38,
   "metadata": {},
   "outputs": [
    {
     "data": {
      "text/plain": [
       "(48, 10)"
      ]
     },
     "execution_count": 38,
     "metadata": {},
     "output_type": "execute_result"
    }
   ],
   "source": [
    "X.shape"
   ]
  },
  {
   "cell_type": "code",
   "execution_count": 33,
   "metadata": {},
   "outputs": [
    {
     "data": {
      "text/plain": [
       "((48, 10), (8, 6))"
      ]
     },
     "execution_count": 33,
     "metadata": {},
     "output_type": "execute_result"
    }
   ],
   "source": [
    "X.shape,y.shape\n"
   ]
  },
  {
   "cell_type": "code",
   "execution_count": null,
   "metadata": {},
   "outputs": [],
   "source": []
  }
 ],
 "metadata": {
  "kernelspec": {
   "display_name": "Python 3",
   "language": "python",
   "name": "python3"
  },
  "language_info": {
   "codemirror_mode": {
    "name": "ipython",
    "version": 3
   },
   "file_extension": ".py",
   "mimetype": "text/x-python",
   "name": "python",
   "nbconvert_exporter": "python",
   "pygments_lexer": "ipython3",
   "version": "3.7.6"
  }
 },
 "nbformat": 4,
 "nbformat_minor": 4
}
