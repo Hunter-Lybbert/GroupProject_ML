{
 "cells": [
  {
   "cell_type": "markdown",
   "id": "synthetic-mileage",
   "metadata": {},
   "source": [
    "# Web Scraping Functions"
   ]
  },
  {
   "cell_type": "code",
   "execution_count": 61,
   "id": "abroad-remedy",
   "metadata": {},
   "outputs": [],
   "source": [
    "from bs4 import BeautifulSoup as bs\n",
    "import requests\n",
    "import pandas as pd\n",
    "import numpy as np\n",
    "from time import sleep\n",
    "import pdb"
   ]
  },
  {
   "cell_type": "code",
   "execution_count": 62,
   "id": "therapeutic-victorian",
   "metadata": {},
   "outputs": [],
   "source": [
    "# URL = 'https://www.sports-reference.com/cbb/postseason/2017-ncaa.html'\n",
    "# page = requests.get(URL)\n",
    "\n",
    "# soup = bs(page.content, 'html.parser')\n",
    "# results = soup.find(id='brackets')\n",
    "# print(results.get_text())"
   ]
  },
  {
   "cell_type": "markdown",
   "id": "supported-arnold",
   "metadata": {},
   "source": [
    "###### The get_table() function gets a table for a particular year and cleans it. For example, remove redundant columns and account for NaN values."
   ]
  },
  {
   "cell_type": "code",
   "execution_count": 68,
   "id": "incredible-nursery",
   "metadata": {},
   "outputs": [],
   "source": [
    "def get_table(year):\n",
    "    \"\"\"This function gets the table for the NCAA stats for\n",
    "    the given year.\n",
    "    \n",
    "    Parameters:\n",
    "        year (string): the year to get the data for\n",
    "        \n",
    "    Returns:\n",
    "        df (pandas.Dataframe): the dataframe containing the stats for the given year\n",
    "    \"\"\"\n",
    "    # construct url and get the table using pandas.read_html\n",
    "    URL = 'https://www.sports-reference.com/cbb/seasons/{}-school-stats.html'.format(year)\n",
    "    information = pd.read_html(URL)\n",
    "    \n",
    "    # save table as a DataFrame\n",
    "    df = information[0]\n",
    "    \n",
    "    # Dropping the nonsense rows\n",
    "    index1 = df[df.iloc[:,1] == 'School'].index\n",
    "    index2 = df[df.iloc[:,2] == 'Overall'].index\n",
    "    df.drop(index1, inplace=True)\n",
    "    df.drop(index2, inplace=True)\n",
    "    \n",
    "    # We rename thje school column\n",
    "    col = [' '.join(tup) for tup in df.columns]\n",
    "    df.columns = col\n",
    "    df = df.rename(columns={'Unnamed: 1_level_0 School':'School'})\n",
    "    \n",
    "    # We drop NaN columns\n",
    "    col2 = [name for name in df.columns if name[:7] == \"Unnamed\"]\n",
    "    df.drop(columns=col2, inplace=True)\n",
    "    \n",
    "    # We found more data that will not help us train\n",
    "    drop = ['Overall SRS', 'Conf. W', 'Conf. L', 'Home W', 'Home L', 'Away W', 'Away L']\n",
    "    df.drop(columns=drop, inplace=True)\n",
    "    \n",
    "    # These are the columns we normalize by number of games played\n",
    "    normalize = ['Points Tm.', 'Points Opp.', 'Totals MP', 'Totals FG', 'Totals FGA', \n",
    "                 'Totals 3P', 'Totals 3PA', 'Totals FT', 'Totals FTA', 'Totals ORB', \n",
    "                 'Totals TRB', 'Totals AST', 'Totals STL', 'Totals BLK', 'Totals TOV', 'Totals PF']\n",
    "    for i in normalize:\n",
    "        df[i] = df[i].astype('float64')/df['Overall G'].astype('float64')\n",
    "    \n",
    "    # Identify which schools went to the NCAA tournament\n",
    "    labels = ['NCAA' in school for school in df['School']]\n",
    "    targets = pd.Series(labels, df.index)\n",
    "    df['Class'] = targets\n",
    "    \n",
    "    # Drop the Total Minutes Played\n",
    "    df.drop(['Totals MP'], axis=1, inplace=True)\n",
    "    \n",
    "    # Filling in missing data with mean of that column\n",
    "    for n,i in enumerate(sum(df.isnull().values)):\n",
    "        if i != 0:\n",
    "            mean = df.iloc[:,n].astype('float64').mean()\n",
    "            df.iloc[:,n].fillna(value=mean, inplace=True)\n",
    "    \n",
    "    # return the cleaned DataFrame\n",
    "    return df"
   ]
  },
  {
   "cell_type": "markdown",
   "id": "cognitive-tennis",
   "metadata": {},
   "source": [
    "###### The get_seasons_data() function gets all tables for a range of years and saves them as a CSV file."
   ]
  },
  {
   "cell_type": "code",
   "execution_count": 64,
   "id": "stylish-savage",
   "metadata": {},
   "outputs": [],
   "source": [
    "def get_seasons_data(start, end):\n",
    "    \"\"\"Get a range of seasons data and write it to CSV files\n",
    "    \n",
    "    Params:\n",
    "        start (int): starting year\n",
    "        end (int): ending year\n",
    "        \n",
    "    Returns:\n",
    "        nothing\n",
    "    \"\"\"\n",
    "    # create the list of years\n",
    "    years = [i for i in range(start, end+1, 1)]\n",
    "    \n",
    "    # call get_table on every year in the list\n",
    "    for year in years:\n",
    "        table = get_table(year)\n",
    "        table.to_csv(f'NCAA_Season_Stats_{year}.csv', index=False)\n",
    "        sleep(np.random.randint(1, 10))\n",
    "    "
   ]
  },
  {
   "cell_type": "code",
   "execution_count": 69,
   "id": "broken-support",
   "metadata": {},
   "outputs": [],
   "source": [
    "# we get all the data we need here\n",
    "# get_seasons_data(1993,2021)"
   ]
  },
  {
   "cell_type": "code",
   "execution_count": 7,
   "id": "structural-manchester",
   "metadata": {},
   "outputs": [],
   "source": [
    "# This is where we could try and get data on their seeding\n",
    "#info = pd.read_html('https://en.wikipedia.org/wiki/2012_NCAA_Division_I_Men%27s_Basketball_Tournament')"
   ]
  }
 ],
 "metadata": {
  "kernelspec": {
   "display_name": "Python 3",
   "language": "python",
   "name": "python3"
  },
  "language_info": {
   "codemirror_mode": {
    "name": "ipython",
    "version": 3
   },
   "file_extension": ".py",
   "mimetype": "text/x-python",
   "name": "python",
   "nbconvert_exporter": "python",
   "pygments_lexer": "ipython3",
   "version": "3.8.2"
  }
 },
 "nbformat": 4,
 "nbformat_minor": 5
}
